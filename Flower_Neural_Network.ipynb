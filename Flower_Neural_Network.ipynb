{
 "cells": [
  {
   "cell_type": "code",
   "execution_count": 2,
   "metadata": {},
   "outputs": [],
   "source": [
    "%matplotlib inline"
   ]
  },
  {
   "cell_type": "code",
   "execution_count": 3,
   "metadata": {},
   "outputs": [],
   "source": [
    "from matplotlib import pyplot as plt"
   ]
  },
  {
   "cell_type": "code",
   "execution_count": 30,
   "metadata": {},
   "outputs": [],
   "source": [
    "import numpy as np\n",
    "import os\n",
    "import pyttsx3"
   ]
  },
  {
   "cell_type": "code",
   "execution_count": 31,
   "metadata": {},
   "outputs": [],
   "source": [
    "data = [[3,1.5,1],\n",
    "        [2,1,0],\n",
    "        [4,1.5,1],\n",
    "        [3,1,0],\n",
    "        [3.5,0.5,1],\n",
    "        [2,0.5,0],\n",
    "        [5.5,1,1],\n",
    "        [1,1,0]]\n"
   ]
  },
  {
   "cell_type": "code",
   "execution_count": 32,
   "metadata": {},
   "outputs": [],
   "source": [
    "mystery_flower = [4.5,1]"
   ]
  },
  {
   "cell_type": "code",
   "execution_count": 33,
   "metadata": {},
   "outputs": [],
   "source": [
    "#The neural network influencers\n",
    "w1 = np.random.randn()\n",
    "w2 = np.random.randn()\n",
    "b = np.random.randn()"
   ]
  },
  {
   "cell_type": "code",
   "execution_count": 34,
   "metadata": {},
   "outputs": [],
   "source": [
    "def sigmoid(x):\n",
    "    return 1/(1+np.exp(-x))"
   ]
  },
  {
   "cell_type": "code",
   "execution_count": 35,
   "metadata": {},
   "outputs": [],
   "source": [
    "def sigmoid_p(x):\n",
    "    return sigmoid(x)*(1-sigmoid(x))"
   ]
  },
  {
   "cell_type": "code",
   "execution_count": 44,
   "metadata": {},
   "outputs": [
    {
     "data": {
      "image/png": "[encoded data removed]",
      "text/plain": [
       "<Figure size 432x288 with 1 Axes>"
      ]
     },
     "metadata": {
      "needs_background": "light"
     },
     "output_type": "display_data"
    }
   ],
   "source": [
    "def train():\n",
    "    w1 = np.random.randn()\n",
    "    w2 = np.random.randn()\n",
    "    b = np.random.randn()\n",
    "    #training of the network\n",
    "    costs = []\n",
    "    #learning rate\n",
    "    alpha = 0.1\n",
    "    for i in range(10000):\n",
    "        ri = np.random.randint(len(data))\n",
    "        point = data[ri]\n",
    "        z = point[0]*w1 + point[1]*w2 + b\n",
    "        pred = sigmoid(z)\n",
    "        target = point[2]\n",
    "        cost = np.square(pred-target)\n",
    "        if i%100 ==0:\n",
    "            cost_sum = 0\n",
    "            for j in range(len(data)):\n",
    "                point = data[j]\n",
    "                z = point[0]*w1 + point[1]*w2 + b\n",
    "                pred = sigmoid(z)\n",
    "                target = point[2]\n",
    "                cost_sum += np.square(pred - target)\n",
    "            costs.append(cost_sum)\n",
    "        dcost_dpred = 2*(pred-target)\n",
    "\n",
    "        dpred_dz = sigmoid_p(z)\n",
    "        #Partial derivatives\n",
    "        dz_dw1 = point[0]\n",
    "        dz_dw2 = point[1]\n",
    "        dz_db = 1\n",
    "        #using the chain rule\n",
    "        dcost_dz  = dcost_dpred * dpred_dz\n",
    "        dcost_dw1 = dcost_dz * dz_dw1\n",
    "        dcost_dw2 = dcost_dz * dz_dw2\n",
    "        dcost_db  = dcost_dz * dz_db\n",
    "        #Error Regression\n",
    "        w1 = w1 - alpha*dcost_dw1\n",
    "        w2 = w2 - alpha*dcost_dw2\n",
    "        b = b - alpha*dcost_db    \n",
    "    return costs,w1,w2,b\n",
    "costs,w1,w2,b = train()\n",
    "fig = plt.plot(costs)"
   ]
  },
  {
   "cell_type": "code",
   "execution_count": 45,
   "metadata": {},
   "outputs": [
    {
     "name": "stdout",
     "output_type": "stream",
     "text": [
      "[3, 1.5, 1]\n",
      "0.5995685117146563\n",
      "[2, 1, 0]\n",
      "0.07247356013825863\n",
      "[4, 1.5, 1]\n",
      "0.9479984538139354\n",
      "[3, 1, 0]\n",
      "0.48753067669546174\n",
      "[3.5, 0.5, 1]\n",
      "0.6783639006801204\n",
      "[2, 0.5, 0]\n",
      "0.04729707416257806\n",
      "[5.5, 1, 1]\n",
      "0.9979719329439601\n",
      "[1, 1, 0]\n",
      "0.006376675225698079\n"
     ]
    }
   ],
   "source": [
    "for i in range(len(data)):\n",
    "    point = data[i]\n",
    "    print (point)\n",
    "    z = point[0]*w1 + point[1]*w2 + b\n",
    "    pred = sigmoid(z)\n",
    "    print(pred)\n"
   ]
  },
  {
   "cell_type": "code",
   "execution_count": 46,
   "metadata": {},
   "outputs": [
    {
     "name": "stdout",
     "output_type": "stream",
     "text": [
      "0.9758548458101433\n"
     ]
    }
   ],
   "source": [
    "z = mystery_flower[0]*w1 + mystery_flower[1]*w2 + b\n",
    "pred = sigmoid(z)\n",
    "print(pred)\n"
   ]
  },
  {
   "cell_type": "code",
   "execution_count": 47,
   "metadata": {},
   "outputs": [],
   "source": [
    "def which_flower(length,width):\n",
    "    z = length*w1 + width*w2 + b\n",
    "    pred = sigmoid(z)\n",
    "    if pred<0.5:\n",
    "        engine = pyttsx3.init()\n",
    "        engine.say('The flower is blue')\n",
    "        engine.runAndWait()\n",
    "    else:\n",
    "        engine = pyttsx3.init()\n",
    "        engine.say('The flower is red')\n",
    "        engine.runAndWait()\n"
   ]
  },
  {
   "cell_type": "code",
   "execution_count": 48,
   "metadata": {},
   "outputs": [],
   "source": [
    "which_flower(3,1)"
   ]
  },
  {
   "cell_type": "code",
   "execution_count": 4,
   "metadata": {},
   "outputs": [],
   "source": []
  },
  {
   "cell_type": "code",
   "execution_count": null,
   "metadata": {},
   "outputs": [],
   "source": []
  }
 ],
 "metadata": {
  "kernelspec": {
   "display_name": "Python 3",
   "language": "python",
   "name": "python3"
  },
  "language_info": {
   "codemirror_mode": {
    "name": "ipython",
    "version": 3
   },
   "file_extension": ".py",
   "mimetype": "text/x-python",
   "name": "python",
   "nbconvert_exporter": "python",
   "pygments_lexer": "ipython3",
   "version": "3.8.3"
  }
 },
 "nbformat": 4,
 "nbformat_minor": 4
}
